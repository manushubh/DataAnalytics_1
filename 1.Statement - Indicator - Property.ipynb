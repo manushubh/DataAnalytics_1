{
 "cells": [
  {
   "cell_type": "code",
   "execution_count": 1,
   "metadata": {},
   "outputs": [],
   "source": [
    "import pandas as pd\n",
    "import seaborn as sns\n",
    "import matplotlib.pyplot as plt\n",
    "import numpy as np"
   ]
  },
  {
   "cell_type": "code",
   "execution_count": 2,
   "metadata": {},
   "outputs": [],
   "source": [
    "plt.style.use('seaborn-whitegrid')"
   ]
  },
  {
   "cell_type": "code",
   "execution_count": 3,
   "metadata": {},
   "outputs": [
    {
     "data": {
      "text/html": [
       "<div>\n",
       "<style scoped>\n",
       "    .dataframe tbody tr th:only-of-type {\n",
       "        vertical-align: middle;\n",
       "    }\n",
       "\n",
       "    .dataframe tbody tr th {\n",
       "        vertical-align: top;\n",
       "    }\n",
       "\n",
       "    .dataframe thead th {\n",
       "        text-align: right;\n",
       "    }\n",
       "</style>\n",
       "<table border=\"1\" class=\"dataframe\">\n",
       "  <thead>\n",
       "    <tr style=\"text-align: right;\">\n",
       "      <th></th>\n",
       "      <th>CountryName</th>\n",
       "      <th>CountryCode</th>\n",
       "      <th>IndicatorName</th>\n",
       "      <th>IndicatorCode</th>\n",
       "      <th>Year</th>\n",
       "      <th>Value</th>\n",
       "    </tr>\n",
       "  </thead>\n",
       "  <tbody>\n",
       "    <tr>\n",
       "      <th>5656453</th>\n",
       "      <td>Zimbabwe</td>\n",
       "      <td>ZWE</td>\n",
       "      <td>Time required to register property (days)</td>\n",
       "      <td>IC.PRP.DURS</td>\n",
       "      <td>2015</td>\n",
       "      <td>36.0</td>\n",
       "    </tr>\n",
       "    <tr>\n",
       "      <th>5656454</th>\n",
       "      <td>Zimbabwe</td>\n",
       "      <td>ZWE</td>\n",
       "      <td>Time required to start a business (days)</td>\n",
       "      <td>IC.REG.DURS</td>\n",
       "      <td>2015</td>\n",
       "      <td>90.0</td>\n",
       "    </tr>\n",
       "    <tr>\n",
       "      <th>5656455</th>\n",
       "      <td>Zimbabwe</td>\n",
       "      <td>ZWE</td>\n",
       "      <td>Time to prepare and pay taxes (hours)</td>\n",
       "      <td>IC.TAX.DURS</td>\n",
       "      <td>2015</td>\n",
       "      <td>242.0</td>\n",
       "    </tr>\n",
       "    <tr>\n",
       "      <th>5656456</th>\n",
       "      <td>Zimbabwe</td>\n",
       "      <td>ZWE</td>\n",
       "      <td>Time to resolve insolvency (years)</td>\n",
       "      <td>IC.ISV.DURS</td>\n",
       "      <td>2015</td>\n",
       "      <td>3.3</td>\n",
       "    </tr>\n",
       "    <tr>\n",
       "      <th>5656457</th>\n",
       "      <td>Zimbabwe</td>\n",
       "      <td>ZWE</td>\n",
       "      <td>Total tax rate (% of commercial profits)</td>\n",
       "      <td>IC.TAX.TOTL.CP.ZS</td>\n",
       "      <td>2015</td>\n",
       "      <td>32.8</td>\n",
       "    </tr>\n",
       "  </tbody>\n",
       "</table>\n",
       "</div>"
      ],
      "text/plain": [
       "        CountryName CountryCode                              IndicatorName  \\\n",
       "5656453    Zimbabwe         ZWE  Time required to register property (days)   \n",
       "5656454    Zimbabwe         ZWE   Time required to start a business (days)   \n",
       "5656455    Zimbabwe         ZWE      Time to prepare and pay taxes (hours)   \n",
       "5656456    Zimbabwe         ZWE         Time to resolve insolvency (years)   \n",
       "5656457    Zimbabwe         ZWE   Total tax rate (% of commercial profits)   \n",
       "\n",
       "             IndicatorCode  Year  Value  \n",
       "5656453        IC.PRP.DURS  2015   36.0  \n",
       "5656454        IC.REG.DURS  2015   90.0  \n",
       "5656455        IC.TAX.DURS  2015  242.0  \n",
       "5656456        IC.ISV.DURS  2015    3.3  \n",
       "5656457  IC.TAX.TOTL.CP.ZS  2015   32.8  "
      ]
     },
     "execution_count": 3,
     "metadata": {},
     "output_type": "execute_result"
    }
   ],
   "source": [
    "indicators = pd.read_csv('Indicators.csv')\n",
    "indicators.tail()"
   ]
  },
  {
   "cell_type": "code",
   "execution_count": 4,
   "metadata": {},
   "outputs": [
    {
     "data": {
      "text/html": [
       "<div>\n",
       "<style scoped>\n",
       "    .dataframe tbody tr th:only-of-type {\n",
       "        vertical-align: middle;\n",
       "    }\n",
       "\n",
       "    .dataframe tbody tr th {\n",
       "        vertical-align: top;\n",
       "    }\n",
       "\n",
       "    .dataframe thead th {\n",
       "        text-align: right;\n",
       "    }\n",
       "</style>\n",
       "<table border=\"1\" class=\"dataframe\">\n",
       "  <thead>\n",
       "    <tr style=\"text-align: right;\">\n",
       "      <th></th>\n",
       "      <th>CountryName</th>\n",
       "      <th>CountryCode</th>\n",
       "      <th>IndicatorName</th>\n",
       "      <th>IndicatorCode</th>\n",
       "      <th>Year</th>\n",
       "      <th>Value</th>\n",
       "    </tr>\n",
       "  </thead>\n",
       "  <tbody>\n",
       "    <tr>\n",
       "      <th>4889909</th>\n",
       "      <td>Canada</td>\n",
       "      <td>CAN</td>\n",
       "      <td>Annualized average growth rate in per capita r...</td>\n",
       "      <td>SI.SPR.PCAP.ZG</td>\n",
       "      <td>2010</td>\n",
       "      <td>1.93</td>\n",
       "    </tr>\n",
       "  </tbody>\n",
       "</table>\n",
       "</div>"
      ],
      "text/plain": [
       "        CountryName CountryCode  \\\n",
       "4889909      Canada         CAN   \n",
       "\n",
       "                                             IndicatorName   IndicatorCode  \\\n",
       "4889909  Annualized average growth rate in per capita r...  SI.SPR.PCAP.ZG   \n",
       "\n",
       "         Year  Value  \n",
       "4889909  2010   1.93  "
      ]
     },
     "execution_count": 4,
     "metadata": {},
     "output_type": "execute_result"
    }
   ],
   "source": [
    "df=indicators[(indicators['CountryName']=='Canada') & (indicators['IndicatorCode']=='SI.SPR.PCAP.ZG')]\n",
    "df.reset_index(drop=True)\n",
    "df\n"
   ]
  },
  {
   "cell_type": "code",
   "execution_count": null,
   "metadata": {},
   "outputs": [],
   "source": []
  },
  {
   "cell_type": "code",
   "execution_count": 5,
   "metadata": {},
   "outputs": [
    {
     "data": {
      "text/plain": [
       "SI.SPR.PCAP.ZG    1\n",
       "Name: IndicatorCode, dtype: int64"
      ]
     },
     "execution_count": 5,
     "metadata": {},
     "output_type": "execute_result"
    }
   ],
   "source": [
    "df.IndicatorCode.value_counts()\n"
   ]
  },
  {
   "cell_type": "markdown",
   "metadata": {},
   "source": [
    "###### Selecting the Indicator to work upon"
   ]
  },
  {
   "cell_type": "code",
   "execution_count": 6,
   "metadata": {},
   "outputs": [],
   "source": [
    "prop = indicators['IndicatorName'].str.contains('property')"
   ]
  },
  {
   "cell_type": "code",
   "execution_count": 7,
   "metadata": {},
   "outputs": [
    {
     "data": {
      "text/html": [
       "<div>\n",
       "<style scoped>\n",
       "    .dataframe tbody tr th:only-of-type {\n",
       "        vertical-align: middle;\n",
       "    }\n",
       "\n",
       "    .dataframe tbody tr th {\n",
       "        vertical-align: top;\n",
       "    }\n",
       "\n",
       "    .dataframe thead th {\n",
       "        text-align: right;\n",
       "    }\n",
       "</style>\n",
       "<table border=\"1\" class=\"dataframe\">\n",
       "  <thead>\n",
       "    <tr style=\"text-align: right;\">\n",
       "      <th></th>\n",
       "      <th>CountryName</th>\n",
       "      <th>CountryCode</th>\n",
       "      <th>IndicatorName</th>\n",
       "      <th>IndicatorCode</th>\n",
       "      <th>Year</th>\n",
       "      <th>Value</th>\n",
       "    </tr>\n",
       "  </thead>\n",
       "  <tbody>\n",
       "    <tr>\n",
       "      <th>3785002</th>\n",
       "      <td>Arab World</td>\n",
       "      <td>ARB</td>\n",
       "      <td>Procedures to register property (number)</td>\n",
       "      <td>IC.PRP.PROC</td>\n",
       "      <td>2004</td>\n",
       "      <td>5.937500</td>\n",
       "    </tr>\n",
       "    <tr>\n",
       "      <th>3785035</th>\n",
       "      <td>Arab World</td>\n",
       "      <td>ARB</td>\n",
       "      <td>Time required to register property (days)</td>\n",
       "      <td>IC.PRP.DURS</td>\n",
       "      <td>2004</td>\n",
       "      <td>47.562500</td>\n",
       "    </tr>\n",
       "    <tr>\n",
       "      <th>3785450</th>\n",
       "      <td>Caribbean small states</td>\n",
       "      <td>CSS</td>\n",
       "      <td>Procedures to register property (number)</td>\n",
       "      <td>IC.PRP.PROC</td>\n",
       "      <td>2004</td>\n",
       "      <td>6.500000</td>\n",
       "    </tr>\n",
       "    <tr>\n",
       "      <th>3785498</th>\n",
       "      <td>Caribbean small states</td>\n",
       "      <td>CSS</td>\n",
       "      <td>Time required to register property (days)</td>\n",
       "      <td>IC.PRP.DURS</td>\n",
       "      <td>2004</td>\n",
       "      <td>43.500000</td>\n",
       "    </tr>\n",
       "    <tr>\n",
       "      <th>3785982</th>\n",
       "      <td>Central Europe and the Baltics</td>\n",
       "      <td>CEB</td>\n",
       "      <td>Procedures to register property (number)</td>\n",
       "      <td>IC.PRP.PROC</td>\n",
       "      <td>2004</td>\n",
       "      <td>5.727273</td>\n",
       "    </tr>\n",
       "    <tr>\n",
       "      <th>...</th>\n",
       "      <td>...</td>\n",
       "      <td>...</td>\n",
       "      <td>...</td>\n",
       "      <td>...</td>\n",
       "      <td>...</td>\n",
       "      <td>...</td>\n",
       "    </tr>\n",
       "    <tr>\n",
       "      <th>5656299</th>\n",
       "      <td>Yemen, Rep.</td>\n",
       "      <td>YEM</td>\n",
       "      <td>Time required to register property (days)</td>\n",
       "      <td>IC.PRP.DURS</td>\n",
       "      <td>2015</td>\n",
       "      <td>19.000000</td>\n",
       "    </tr>\n",
       "    <tr>\n",
       "      <th>5656365</th>\n",
       "      <td>Zambia</td>\n",
       "      <td>ZMB</td>\n",
       "      <td>Procedures to register property (number)</td>\n",
       "      <td>IC.PRP.PROC</td>\n",
       "      <td>2015</td>\n",
       "      <td>5.000000</td>\n",
       "    </tr>\n",
       "    <tr>\n",
       "      <th>5656376</th>\n",
       "      <td>Zambia</td>\n",
       "      <td>ZMB</td>\n",
       "      <td>Time required to register property (days)</td>\n",
       "      <td>IC.PRP.DURS</td>\n",
       "      <td>2015</td>\n",
       "      <td>45.000000</td>\n",
       "    </tr>\n",
       "    <tr>\n",
       "      <th>5656442</th>\n",
       "      <td>Zimbabwe</td>\n",
       "      <td>ZWE</td>\n",
       "      <td>Procedures to register property (number)</td>\n",
       "      <td>IC.PRP.PROC</td>\n",
       "      <td>2015</td>\n",
       "      <td>5.000000</td>\n",
       "    </tr>\n",
       "    <tr>\n",
       "      <th>5656453</th>\n",
       "      <td>Zimbabwe</td>\n",
       "      <td>ZWE</td>\n",
       "      <td>Time required to register property (days)</td>\n",
       "      <td>IC.PRP.DURS</td>\n",
       "      <td>2015</td>\n",
       "      <td>36.000000</td>\n",
       "    </tr>\n",
       "  </tbody>\n",
       "</table>\n",
       "<p>8902 rows × 6 columns</p>\n",
       "</div>"
      ],
      "text/plain": [
       "                            CountryName CountryCode  \\\n",
       "3785002                      Arab World         ARB   \n",
       "3785035                      Arab World         ARB   \n",
       "3785450          Caribbean small states         CSS   \n",
       "3785498          Caribbean small states         CSS   \n",
       "3785982  Central Europe and the Baltics         CEB   \n",
       "...                                 ...         ...   \n",
       "5656299                     Yemen, Rep.         YEM   \n",
       "5656365                          Zambia         ZMB   \n",
       "5656376                          Zambia         ZMB   \n",
       "5656442                        Zimbabwe         ZWE   \n",
       "5656453                        Zimbabwe         ZWE   \n",
       "\n",
       "                                     IndicatorName IndicatorCode  Year  \\\n",
       "3785002   Procedures to register property (number)   IC.PRP.PROC  2004   \n",
       "3785035  Time required to register property (days)   IC.PRP.DURS  2004   \n",
       "3785450   Procedures to register property (number)   IC.PRP.PROC  2004   \n",
       "3785498  Time required to register property (days)   IC.PRP.DURS  2004   \n",
       "3785982   Procedures to register property (number)   IC.PRP.PROC  2004   \n",
       "...                                            ...           ...   ...   \n",
       "5656299  Time required to register property (days)   IC.PRP.DURS  2015   \n",
       "5656365   Procedures to register property (number)   IC.PRP.PROC  2015   \n",
       "5656376  Time required to register property (days)   IC.PRP.DURS  2015   \n",
       "5656442   Procedures to register property (number)   IC.PRP.PROC  2015   \n",
       "5656453  Time required to register property (days)   IC.PRP.DURS  2015   \n",
       "\n",
       "             Value  \n",
       "3785002   5.937500  \n",
       "3785035  47.562500  \n",
       "3785450   6.500000  \n",
       "3785498  43.500000  \n",
       "3785982   5.727273  \n",
       "...            ...  \n",
       "5656299  19.000000  \n",
       "5656365   5.000000  \n",
       "5656376  45.000000  \n",
       "5656442   5.000000  \n",
       "5656453  36.000000  \n",
       "\n",
       "[8902 rows x 6 columns]"
      ]
     },
     "execution_count": 7,
     "metadata": {},
     "output_type": "execute_result"
    }
   ],
   "source": [
    "indicators[prop]"
   ]
  },
  {
   "cell_type": "code",
   "execution_count": 8,
   "metadata": {},
   "outputs": [
    {
     "data": {
      "text/plain": [
       "array(['IC.PRP.PROC', 'IC.PRP.DURS', 'BM.GSR.ROYL.CD', 'BX.GSR.ROYL.CD',\n",
       "       'IQ.CPA.PROP.XQ'], dtype=object)"
      ]
     },
     "execution_count": 8,
     "metadata": {},
     "output_type": "execute_result"
    }
   ],
   "source": [
    "indicators[prop]['IndicatorCode'].unique()"
   ]
  },
  {
   "cell_type": "code",
   "execution_count": 9,
   "metadata": {},
   "outputs": [
    {
     "data": {
      "text/html": [
       "<div>\n",
       "<style scoped>\n",
       "    .dataframe tbody tr th:only-of-type {\n",
       "        vertical-align: middle;\n",
       "    }\n",
       "\n",
       "    .dataframe tbody tr th {\n",
       "        vertical-align: top;\n",
       "    }\n",
       "\n",
       "    .dataframe thead th {\n",
       "        text-align: right;\n",
       "    }\n",
       "</style>\n",
       "<table border=\"1\" class=\"dataframe\">\n",
       "  <thead>\n",
       "    <tr style=\"text-align: right;\">\n",
       "      <th></th>\n",
       "      <th>CountryName</th>\n",
       "      <th>CountryCode</th>\n",
       "      <th>IndicatorName</th>\n",
       "      <th>IndicatorCode</th>\n",
       "      <th>Year</th>\n",
       "      <th>Value</th>\n",
       "    </tr>\n",
       "  </thead>\n",
       "  <tbody>\n",
       "    <tr>\n",
       "      <th>3942725</th>\n",
       "      <td>Arab World</td>\n",
       "      <td>ARB</td>\n",
       "      <td>CPIA property rights and rule-based governance...</td>\n",
       "      <td>IQ.CPA.PROP.XQ</td>\n",
       "      <td>2005</td>\n",
       "      <td>2.500000</td>\n",
       "    </tr>\n",
       "    <tr>\n",
       "      <th>3943256</th>\n",
       "      <td>Caribbean small states</td>\n",
       "      <td>CSS</td>\n",
       "      <td>CPIA property rights and rule-based governance...</td>\n",
       "      <td>IQ.CPA.PROP.XQ</td>\n",
       "      <td>2005</td>\n",
       "      <td>3.800000</td>\n",
       "    </tr>\n",
       "    <tr>\n",
       "      <th>3944445</th>\n",
       "      <td>East Asia &amp; Pacific (all income levels)</td>\n",
       "      <td>EAS</td>\n",
       "      <td>CPIA property rights and rule-based governance...</td>\n",
       "      <td>IQ.CPA.PROP.XQ</td>\n",
       "      <td>2005</td>\n",
       "      <td>3.045455</td>\n",
       "    </tr>\n",
       "    <tr>\n",
       "      <th>3945064</th>\n",
       "      <td>East Asia &amp; Pacific (developing only)</td>\n",
       "      <td>EAP</td>\n",
       "      <td>CPIA property rights and rule-based governance...</td>\n",
       "      <td>IQ.CPA.PROP.XQ</td>\n",
       "      <td>2005</td>\n",
       "      <td>3.045455</td>\n",
       "    </tr>\n",
       "    <tr>\n",
       "      <th>3946466</th>\n",
       "      <td>Europe &amp; Central Asia (all income levels)</td>\n",
       "      <td>ECS</td>\n",
       "      <td>CPIA property rights and rule-based governance...</td>\n",
       "      <td>IQ.CPA.PROP.XQ</td>\n",
       "      <td>2005</td>\n",
       "      <td>2.950000</td>\n",
       "    </tr>\n",
       "    <tr>\n",
       "      <th>...</th>\n",
       "      <td>...</td>\n",
       "      <td>...</td>\n",
       "      <td>...</td>\n",
       "      <td>...</td>\n",
       "      <td>...</td>\n",
       "      <td>...</td>\n",
       "    </tr>\n",
       "    <tr>\n",
       "      <th>5638567</th>\n",
       "      <td>Vanuatu</td>\n",
       "      <td>VUT</td>\n",
       "      <td>CPIA property rights and rule-based governance...</td>\n",
       "      <td>IQ.CPA.PROP.XQ</td>\n",
       "      <td>2014</td>\n",
       "      <td>3.500000</td>\n",
       "    </tr>\n",
       "    <tr>\n",
       "      <th>5639297</th>\n",
       "      <td>Vietnam</td>\n",
       "      <td>VNM</td>\n",
       "      <td>CPIA property rights and rule-based governance...</td>\n",
       "      <td>IQ.CPA.PROP.XQ</td>\n",
       "      <td>2014</td>\n",
       "      <td>3.500000</td>\n",
       "    </tr>\n",
       "    <tr>\n",
       "      <th>5640209</th>\n",
       "      <td>Yemen, Rep.</td>\n",
       "      <td>YEM</td>\n",
       "      <td>CPIA property rights and rule-based governance...</td>\n",
       "      <td>IQ.CPA.PROP.XQ</td>\n",
       "      <td>2014</td>\n",
       "      <td>2.000000</td>\n",
       "    </tr>\n",
       "    <tr>\n",
       "      <th>5640622</th>\n",
       "      <td>Zambia</td>\n",
       "      <td>ZMB</td>\n",
       "      <td>CPIA property rights and rule-based governance...</td>\n",
       "      <td>IQ.CPA.PROP.XQ</td>\n",
       "      <td>2014</td>\n",
       "      <td>3.000000</td>\n",
       "    </tr>\n",
       "    <tr>\n",
       "      <th>5641182</th>\n",
       "      <td>Zimbabwe</td>\n",
       "      <td>ZWE</td>\n",
       "      <td>CPIA property rights and rule-based governance...</td>\n",
       "      <td>IQ.CPA.PROP.XQ</td>\n",
       "      <td>2014</td>\n",
       "      <td>2.000000</td>\n",
       "    </tr>\n",
       "  </tbody>\n",
       "</table>\n",
       "<p>1023 rows × 6 columns</p>\n",
       "</div>"
      ],
      "text/plain": [
       "                                       CountryName CountryCode  \\\n",
       "3942725                                 Arab World         ARB   \n",
       "3943256                     Caribbean small states         CSS   \n",
       "3944445    East Asia & Pacific (all income levels)         EAS   \n",
       "3945064      East Asia & Pacific (developing only)         EAP   \n",
       "3946466  Europe & Central Asia (all income levels)         ECS   \n",
       "...                                            ...         ...   \n",
       "5638567                                    Vanuatu         VUT   \n",
       "5639297                                    Vietnam         VNM   \n",
       "5640209                                Yemen, Rep.         YEM   \n",
       "5640622                                     Zambia         ZMB   \n",
       "5641182                                   Zimbabwe         ZWE   \n",
       "\n",
       "                                             IndicatorName   IndicatorCode  \\\n",
       "3942725  CPIA property rights and rule-based governance...  IQ.CPA.PROP.XQ   \n",
       "3943256  CPIA property rights and rule-based governance...  IQ.CPA.PROP.XQ   \n",
       "3944445  CPIA property rights and rule-based governance...  IQ.CPA.PROP.XQ   \n",
       "3945064  CPIA property rights and rule-based governance...  IQ.CPA.PROP.XQ   \n",
       "3946466  CPIA property rights and rule-based governance...  IQ.CPA.PROP.XQ   \n",
       "...                                                    ...             ...   \n",
       "5638567  CPIA property rights and rule-based governance...  IQ.CPA.PROP.XQ   \n",
       "5639297  CPIA property rights and rule-based governance...  IQ.CPA.PROP.XQ   \n",
       "5640209  CPIA property rights and rule-based governance...  IQ.CPA.PROP.XQ   \n",
       "5640622  CPIA property rights and rule-based governance...  IQ.CPA.PROP.XQ   \n",
       "5641182  CPIA property rights and rule-based governance...  IQ.CPA.PROP.XQ   \n",
       "\n",
       "         Year     Value  \n",
       "3942725  2005  2.500000  \n",
       "3943256  2005  3.800000  \n",
       "3944445  2005  3.045455  \n",
       "3945064  2005  3.045455  \n",
       "3946466  2005  2.950000  \n",
       "...       ...       ...  \n",
       "5638567  2014  3.500000  \n",
       "5639297  2014  3.500000  \n",
       "5640209  2014  2.000000  \n",
       "5640622  2014  3.000000  \n",
       "5641182  2014  2.000000  \n",
       "\n",
       "[1023 rows x 6 columns]"
      ]
     },
     "execution_count": 9,
     "metadata": {},
     "output_type": "execute_result"
    }
   ],
   "source": [
    "indicators.query('IndicatorCode == \"IQ.CPA.PROP.XQ\"')"
   ]
  },
  {
   "cell_type": "code",
   "execution_count": 10,
   "metadata": {},
   "outputs": [
    {
     "data": {
      "text/plain": [
       "'CPIA property rights and rule-based governance rating (1=low to 6=high)'"
      ]
     },
     "execution_count": 10,
     "metadata": {},
     "output_type": "execute_result"
    }
   ],
   "source": [
    "indicators.loc[3945064,'IndicatorName'] #IQ.CPA.PROP.XQ"
   ]
  },
  {
   "cell_type": "code",
   "execution_count": 11,
   "metadata": {},
   "outputs": [
    {
     "data": {
      "text/plain": [
       "'Charges for the use of intellectual property, payments (BoP, current US$)'"
      ]
     },
     "execution_count": 11,
     "metadata": {},
     "output_type": "execute_result"
    }
   ],
   "source": [
    "indicators.loc[3942683,'IndicatorName'] #BM.GSR.ROYL.CD"
   ]
  },
  {
   "cell_type": "code",
   "execution_count": 12,
   "metadata": {},
   "outputs": [
    {
     "data": {
      "text/plain": [
       "'Charges for the use of intellectual property, receipts (BoP, current US$)'"
      ]
     },
     "execution_count": 12,
     "metadata": {},
     "output_type": "execute_result"
    }
   ],
   "source": [
    "indicators.loc[3943213,'IndicatorName'] #BX.GSR.ROYL.CD"
   ]
  },
  {
   "cell_type": "markdown",
   "metadata": {},
   "source": [
    "##### Problem Statement: To Check for time required to register a property and the number of procedures involved to register a property in different countries \n",
    "Selecting 2 indicators \"Procedures to register property (number)IC.PRP.PROC\" and \"Time required to register property (days) IC.PRP.DURS\""
   ]
  },
  {
   "cell_type": "code",
   "execution_count": 13,
   "metadata": {},
   "outputs": [],
   "source": [
    "prp_durs = indicators.query('IndicatorCode == \"IC.PRP.DURS\"')"
   ]
  },
  {
   "cell_type": "code",
   "execution_count": 14,
   "metadata": {},
   "outputs": [
    {
     "data": {
      "text/html": [
       "<div>\n",
       "<style scoped>\n",
       "    .dataframe tbody tr th:only-of-type {\n",
       "        vertical-align: middle;\n",
       "    }\n",
       "\n",
       "    .dataframe tbody tr th {\n",
       "        vertical-align: top;\n",
       "    }\n",
       "\n",
       "    .dataframe thead th {\n",
       "        text-align: right;\n",
       "    }\n",
       "</style>\n",
       "<table border=\"1\" class=\"dataframe\">\n",
       "  <thead>\n",
       "    <tr style=\"text-align: right;\">\n",
       "      <th></th>\n",
       "      <th>CountryName</th>\n",
       "      <th>CountryCode</th>\n",
       "      <th>IndicatorName</th>\n",
       "      <th>IndicatorCode</th>\n",
       "      <th>Year</th>\n",
       "      <th>Value</th>\n",
       "    </tr>\n",
       "  </thead>\n",
       "  <tbody>\n",
       "    <tr>\n",
       "      <th>4305396</th>\n",
       "      <td>Europe &amp; Central Asia (developing only)</td>\n",
       "      <td>ECA</td>\n",
       "      <td>Time required to register property (days)</td>\n",
       "      <td>IC.PRP.DURS</td>\n",
       "      <td>2007</td>\n",
       "      <td>75.611111</td>\n",
       "    </tr>\n",
       "    <tr>\n",
       "      <th>5359031</th>\n",
       "      <td>Tajikistan</td>\n",
       "      <td>TJK</td>\n",
       "      <td>Time required to register property (days)</td>\n",
       "      <td>IC.PRP.DURS</td>\n",
       "      <td>2012</td>\n",
       "      <td>37.000000</td>\n",
       "    </tr>\n",
       "    <tr>\n",
       "      <th>5115623</th>\n",
       "      <td>Israel</td>\n",
       "      <td>ISR</td>\n",
       "      <td>Time required to register property (days)</td>\n",
       "      <td>IC.PRP.DURS</td>\n",
       "      <td>2011</td>\n",
       "      <td>144.000000</td>\n",
       "    </tr>\n",
       "    <tr>\n",
       "      <th>4825995</th>\n",
       "      <td>Tunisia</td>\n",
       "      <td>TUN</td>\n",
       "      <td>Time required to register property (days)</td>\n",
       "      <td>IC.PRP.DURS</td>\n",
       "      <td>2009</td>\n",
       "      <td>39.000000</td>\n",
       "    </tr>\n",
       "    <tr>\n",
       "      <th>4005863</th>\n",
       "      <td>Dominica</td>\n",
       "      <td>DMA</td>\n",
       "      <td>Time required to register property (days)</td>\n",
       "      <td>IC.PRP.DURS</td>\n",
       "      <td>2005</td>\n",
       "      <td>42.000000</td>\n",
       "    </tr>\n",
       "    <tr>\n",
       "      <th>4923269</th>\n",
       "      <td>Guinea</td>\n",
       "      <td>GIN</td>\n",
       "      <td>Time required to register property (days)</td>\n",
       "      <td>IC.PRP.DURS</td>\n",
       "      <td>2010</td>\n",
       "      <td>59.000000</td>\n",
       "    </tr>\n",
       "    <tr>\n",
       "      <th>4813164</th>\n",
       "      <td>St. Kitts and Nevis</td>\n",
       "      <td>KNA</td>\n",
       "      <td>Time required to register property (days)</td>\n",
       "      <td>IC.PRP.DURS</td>\n",
       "      <td>2009</td>\n",
       "      <td>82.000000</td>\n",
       "    </tr>\n",
       "    <tr>\n",
       "      <th>4148133</th>\n",
       "      <td>Angola</td>\n",
       "      <td>AGO</td>\n",
       "      <td>Time required to register property (days)</td>\n",
       "      <td>IC.PRP.DURS</td>\n",
       "      <td>2006</td>\n",
       "      <td>335.000000</td>\n",
       "    </tr>\n",
       "    <tr>\n",
       "      <th>3828311</th>\n",
       "      <td>Chad</td>\n",
       "      <td>TCD</td>\n",
       "      <td>Time required to register property (days)</td>\n",
       "      <td>IC.PRP.DURS</td>\n",
       "      <td>2004</td>\n",
       "      <td>44.000000</td>\n",
       "    </tr>\n",
       "    <tr>\n",
       "      <th>5126032</th>\n",
       "      <td>Latvia</td>\n",
       "      <td>LVA</td>\n",
       "      <td>Time required to register property (days)</td>\n",
       "      <td>IC.PRP.DURS</td>\n",
       "      <td>2011</td>\n",
       "      <td>17.500000</td>\n",
       "    </tr>\n",
       "  </tbody>\n",
       "</table>\n",
       "</div>"
      ],
      "text/plain": [
       "                                     CountryName CountryCode  \\\n",
       "4305396  Europe & Central Asia (developing only)         ECA   \n",
       "5359031                               Tajikistan         TJK   \n",
       "5115623                                   Israel         ISR   \n",
       "4825995                                  Tunisia         TUN   \n",
       "4005863                                 Dominica         DMA   \n",
       "4923269                                   Guinea         GIN   \n",
       "4813164                      St. Kitts and Nevis         KNA   \n",
       "4148133                                   Angola         AGO   \n",
       "3828311                                     Chad         TCD   \n",
       "5126032                                   Latvia         LVA   \n",
       "\n",
       "                                     IndicatorName IndicatorCode  Year  \\\n",
       "4305396  Time required to register property (days)   IC.PRP.DURS  2007   \n",
       "5359031  Time required to register property (days)   IC.PRP.DURS  2012   \n",
       "5115623  Time required to register property (days)   IC.PRP.DURS  2011   \n",
       "4825995  Time required to register property (days)   IC.PRP.DURS  2009   \n",
       "4005863  Time required to register property (days)   IC.PRP.DURS  2005   \n",
       "4923269  Time required to register property (days)   IC.PRP.DURS  2010   \n",
       "4813164  Time required to register property (days)   IC.PRP.DURS  2009   \n",
       "4148133  Time required to register property (days)   IC.PRP.DURS  2006   \n",
       "3828311  Time required to register property (days)   IC.PRP.DURS  2004   \n",
       "5126032  Time required to register property (days)   IC.PRP.DURS  2011   \n",
       "\n",
       "              Value  \n",
       "4305396   75.611111  \n",
       "5359031   37.000000  \n",
       "5115623  144.000000  \n",
       "4825995   39.000000  \n",
       "4005863   42.000000  \n",
       "4923269   59.000000  \n",
       "4813164   82.000000  \n",
       "4148133  335.000000  \n",
       "3828311   44.000000  \n",
       "5126032   17.500000  "
      ]
     },
     "execution_count": 14,
     "metadata": {},
     "output_type": "execute_result"
    }
   ],
   "source": [
    "prp_durs.sample(10)"
   ]
  },
  {
   "cell_type": "code",
   "execution_count": 15,
   "metadata": {},
   "outputs": [
    {
     "data": {
      "text/plain": [
       "(2416, 6)"
      ]
     },
     "execution_count": 15,
     "metadata": {},
     "output_type": "execute_result"
    }
   ],
   "source": [
    "prp_durs.shape"
   ]
  },
  {
   "cell_type": "code",
   "execution_count": 16,
   "metadata": {},
   "outputs": [
    {
     "data": {
      "text/plain": [
       "217"
      ]
     },
     "execution_count": 16,
     "metadata": {},
     "output_type": "execute_result"
    }
   ],
   "source": [
    "prp_durs.CountryCode.nunique()"
   ]
  },
  {
   "cell_type": "code",
   "execution_count": 17,
   "metadata": {},
   "outputs": [
    {
     "data": {
      "text/plain": [
       "array([2004, 2005, 2006, 2007, 2008, 2009, 2010, 2011, 2012, 2013, 2014,\n",
       "       2015], dtype=int64)"
      ]
     },
     "execution_count": 17,
     "metadata": {},
     "output_type": "execute_result"
    }
   ],
   "source": [
    "prp_durs.Year.unique()"
   ]
  },
  {
   "cell_type": "markdown",
   "metadata": {},
   "source": [
    "###### The below graph shows the reduction in number of days required to register a property as years pass by"
   ]
  },
  {
   "cell_type": "code",
   "execution_count": 18,
   "metadata": {},
   "outputs": [
    {
     "data": {
      "text/plain": [
       "<matplotlib.axes._subplots.AxesSubplot at 0x1b021e18188>"
      ]
     },
     "execution_count": 18,
     "metadata": {},
     "output_type": "execute_result"
    },
    {
     "data": {
      "image/png": "[encoded data removed]",
      "text/plain": [
       "<Figure size 432x288 with 1 Axes>"
      ]
     },
     "metadata": {},
     "output_type": "display_data"
    }
   ],
   "source": [
    "num_days = prp_durs.groupby('Year')['Value'].mean()\n",
    "num_days.plot(kind='bar')"
   ]
  },
  {
   "cell_type": "markdown",
   "metadata": {},
   "source": [
    "The below graph shows the top 10 countries with least number of days required to register a property"
   ]
  },
  {
   "cell_type": "code",
   "execution_count": 19,
   "metadata": {},
   "outputs": [
    {
     "data": {
      "text/plain": [
       "Text(0.5, 0, '# of Days')"
      ]
     },
     "execution_count": 19,
     "metadata": {},
     "output_type": "execute_result"
    },
    {
     "data": {
      "image/png": "[encoded data removed]",
      "text/plain": [
       "<Figure size 432x288 with 1 Axes>"
      ]
     },
     "metadata": {},
     "output_type": "display_data"
    }
   ],
   "source": [
    "mi_days = prp_durs.groupby('CountryName',as_index=False)['Value'].mean().sort_values(by='Value',ascending=False).tail(10)\n",
    "sns.barplot(mi_days['Value'],mi_days['CountryName'])\n",
    "plt.title(\"Top 10 countries which has less number of days to register\")\n",
    "plt.xlabel('# of Days')"
   ]
  },
  {
   "cell_type": "markdown",
   "metadata": {},
   "source": [
    "###### Working on Procedures to register property (number)IC.PRP.PROC"
   ]
  },
  {
   "cell_type": "code",
   "execution_count": 20,
   "metadata": {},
   "outputs": [
    {
     "data": {
      "text/html": [
       "<div>\n",
       "<style scoped>\n",
       "    .dataframe tbody tr th:only-of-type {\n",
       "        vertical-align: middle;\n",
       "    }\n",
       "\n",
       "    .dataframe tbody tr th {\n",
       "        vertical-align: top;\n",
       "    }\n",
       "\n",
       "    .dataframe thead th {\n",
       "        text-align: right;\n",
       "    }\n",
       "</style>\n",
       "<table border=\"1\" class=\"dataframe\">\n",
       "  <thead>\n",
       "    <tr style=\"text-align: right;\">\n",
       "      <th></th>\n",
       "      <th>CountryName</th>\n",
       "      <th>CountryCode</th>\n",
       "      <th>IndicatorName</th>\n",
       "      <th>IndicatorCode</th>\n",
       "      <th>Year</th>\n",
       "      <th>Value</th>\n",
       "    </tr>\n",
       "  </thead>\n",
       "  <tbody>\n",
       "    <tr>\n",
       "      <th>3803006</th>\n",
       "      <td>Upper middle income</td>\n",
       "      <td>UMC</td>\n",
       "      <td>Procedures to register property (number)</td>\n",
       "      <td>IC.PRP.PROC</td>\n",
       "      <td>2004</td>\n",
       "      <td>6.571429</td>\n",
       "    </tr>\n",
       "    <tr>\n",
       "      <th>4428342</th>\n",
       "      <td>Niger</td>\n",
       "      <td>NER</td>\n",
       "      <td>Procedures to register property (number)</td>\n",
       "      <td>IC.PRP.PROC</td>\n",
       "      <td>2007</td>\n",
       "      <td>4.000000</td>\n",
       "    </tr>\n",
       "    <tr>\n",
       "      <th>4253993</th>\n",
       "      <td>Papua New Guinea</td>\n",
       "      <td>PNG</td>\n",
       "      <td>Procedures to register property (number)</td>\n",
       "      <td>IC.PRP.PROC</td>\n",
       "      <td>2006</td>\n",
       "      <td>4.000000</td>\n",
       "    </tr>\n",
       "    <tr>\n",
       "      <th>5642038</th>\n",
       "      <td>Europe &amp; Central Asia (all income levels)</td>\n",
       "      <td>ECS</td>\n",
       "      <td>Procedures to register property (number)</td>\n",
       "      <td>IC.PRP.PROC</td>\n",
       "      <td>2015</td>\n",
       "      <td>4.918367</td>\n",
       "    </tr>\n",
       "    <tr>\n",
       "      <th>3956542</th>\n",
       "      <td>Middle East &amp; North Africa (all income levels)</td>\n",
       "      <td>MEA</td>\n",
       "      <td>Procedures to register property (number)</td>\n",
       "      <td>IC.PRP.PROC</td>\n",
       "      <td>2005</td>\n",
       "      <td>6.117647</td>\n",
       "    </tr>\n",
       "    <tr>\n",
       "      <th>5414393</th>\n",
       "      <td>Brazil</td>\n",
       "      <td>BRA</td>\n",
       "      <td>Procedures to register property (number)</td>\n",
       "      <td>IC.PRP.PROC</td>\n",
       "      <td>2013</td>\n",
       "      <td>13.600000</td>\n",
       "    </tr>\n",
       "    <tr>\n",
       "      <th>5648703</th>\n",
       "      <td>Hungary</td>\n",
       "      <td>HUN</td>\n",
       "      <td>Procedures to register property (number)</td>\n",
       "      <td>IC.PRP.PROC</td>\n",
       "      <td>2015</td>\n",
       "      <td>4.000000</td>\n",
       "    </tr>\n",
       "    <tr>\n",
       "      <th>5075873</th>\n",
       "      <td>Chad</td>\n",
       "      <td>TCD</td>\n",
       "      <td>Procedures to register property (number)</td>\n",
       "      <td>IC.PRP.PROC</td>\n",
       "      <td>2011</td>\n",
       "      <td>6.000000</td>\n",
       "    </tr>\n",
       "    <tr>\n",
       "      <th>3789641</th>\n",
       "      <td>European Union</td>\n",
       "      <td>EUU</td>\n",
       "      <td>Procedures to register property (number)</td>\n",
       "      <td>IC.PRP.PROC</td>\n",
       "      <td>2004</td>\n",
       "      <td>5.560000</td>\n",
       "    </tr>\n",
       "    <tr>\n",
       "      <th>4881240</th>\n",
       "      <td>Bosnia and Herzegovina</td>\n",
       "      <td>BIH</td>\n",
       "      <td>Procedures to register property (number)</td>\n",
       "      <td>IC.PRP.PROC</td>\n",
       "      <td>2010</td>\n",
       "      <td>7.000000</td>\n",
       "    </tr>\n",
       "  </tbody>\n",
       "</table>\n",
       "</div>"
      ],
      "text/plain": [
       "                                            CountryName CountryCode  \\\n",
       "3803006                             Upper middle income         UMC   \n",
       "4428342                                           Niger         NER   \n",
       "4253993                                Papua New Guinea         PNG   \n",
       "5642038       Europe & Central Asia (all income levels)         ECS   \n",
       "3956542  Middle East & North Africa (all income levels)         MEA   \n",
       "5414393                                          Brazil         BRA   \n",
       "5648703                                         Hungary         HUN   \n",
       "5075873                                            Chad         TCD   \n",
       "3789641                                  European Union         EUU   \n",
       "4881240                          Bosnia and Herzegovina         BIH   \n",
       "\n",
       "                                    IndicatorName IndicatorCode  Year  \\\n",
       "3803006  Procedures to register property (number)   IC.PRP.PROC  2004   \n",
       "4428342  Procedures to register property (number)   IC.PRP.PROC  2007   \n",
       "4253993  Procedures to register property (number)   IC.PRP.PROC  2006   \n",
       "5642038  Procedures to register property (number)   IC.PRP.PROC  2015   \n",
       "3956542  Procedures to register property (number)   IC.PRP.PROC  2005   \n",
       "5414393  Procedures to register property (number)   IC.PRP.PROC  2013   \n",
       "5648703  Procedures to register property (number)   IC.PRP.PROC  2015   \n",
       "5075873  Procedures to register property (number)   IC.PRP.PROC  2011   \n",
       "3789641  Procedures to register property (number)   IC.PRP.PROC  2004   \n",
       "4881240  Procedures to register property (number)   IC.PRP.PROC  2010   \n",
       "\n",
       "             Value  \n",
       "3803006   6.571429  \n",
       "4428342   4.000000  \n",
       "4253993   4.000000  \n",
       "5642038   4.918367  \n",
       "3956542   6.117647  \n",
       "5414393  13.600000  \n",
       "5648703   4.000000  \n",
       "5075873   6.000000  \n",
       "3789641   5.560000  \n",
       "4881240   7.000000  "
      ]
     },
     "execution_count": 20,
     "metadata": {},
     "output_type": "execute_result"
    }
   ],
   "source": [
    "proc = indicators.query('IndicatorCode == \"IC.PRP.PROC\"')\n",
    "proc.sample(10)"
   ]
  },
  {
   "cell_type": "code",
   "execution_count": 21,
   "metadata": {},
   "outputs": [
    {
     "data": {
      "text/plain": [
       "(2416, 6)"
      ]
     },
     "execution_count": 21,
     "metadata": {},
     "output_type": "execute_result"
    }
   ],
   "source": [
    "proc.shape"
   ]
  },
  {
   "cell_type": "markdown",
   "metadata": {},
   "source": [
    "The below graph shows that the number of procedures remains the same down the years"
   ]
  },
  {
   "cell_type": "code",
   "execution_count": 22,
   "metadata": {},
   "outputs": [
    {
     "data": {
      "text/plain": [
       "<matplotlib.axes._subplots.AxesSubplot at 0x1b0227cde48>"
      ]
     },
     "execution_count": 22,
     "metadata": {},
     "output_type": "execute_result"
    },
    {
     "data": {
      "image/png": "[encoded data removed]",
      "text/plain": [
       "<Figure size 432x288 with 1 Axes>"
      ]
     },
     "metadata": {},
     "output_type": "display_data"
    }
   ],
   "source": [
    "num_proc = proc.groupby('Year')['Value'].mean()\n",
    "num_proc.plot(kind='bar')"
   ]
  },
  {
   "cell_type": "code",
   "execution_count": 23,
   "metadata": {},
   "outputs": [
    {
     "data": {
      "text/plain": [
       "Text(0.5, 0, '# of procedure')"
      ]
     },
     "execution_count": 23,
     "metadata": {},
     "output_type": "execute_result"
    },
    {
     "data": {
      "image/png": "[encoded data removed]",
      "text/plain": [
       "<Figure size 432x288 with 1 Axes>"
      ]
     },
     "metadata": {},
     "output_type": "display_data"
    }
   ],
   "source": [
    "ma_proc = proc.groupby('CountryName',as_index=False)['Value'].mean().sort_values(by='Value',ascending=False).iloc[:10]\n",
    "sns.barplot(ma_proc['Value'],ma_proc['CountryName'])\n",
    "plt.title(\"Top 10 countries with higest number of procedure\")\n",
    "plt.xlabel('# of procedure')"
   ]
  },
  {
   "cell_type": "markdown",
   "metadata": {},
   "source": [
    "We can incure that thoug the number of days to register a property have been reduced, but the number of procedure invloved almost remains the same for a particular Country in the below example"
   ]
  },
  {
   "cell_type": "code",
   "execution_count": 24,
   "metadata": {},
   "outputs": [
    {
     "data": {
      "text/plain": [
       "Text(0, 0.5, 'Days')"
      ]
     },
     "execution_count": 24,
     "metadata": {},
     "output_type": "execute_result"
    },
    {
     "data": {
      "image/png": "[encoded data removed]",
      "text/plain": [
       "<Figure size 432x288 with 1 Axes>"
      ]
     },
     "metadata": {},
     "output_type": "display_data"
    }
   ],
   "source": [
    "prp_dur_au = prp_durs.loc[(prp_durs['CountryName']==\"Australia\" )] \n",
    "sns.barplot(prp_dur_au['Year'],prp_dur_au['Value'])\n",
    "plt.title('Time required to register property')\n",
    "plt.ylabel('Days')"
   ]
  },
  {
   "cell_type": "code",
   "execution_count": 25,
   "metadata": {},
   "outputs": [
    {
     "data": {
      "text/plain": [
       "Text(0, 0.5, '# of Procedure')"
      ]
     },
     "execution_count": 25,
     "metadata": {},
     "output_type": "execute_result"
    },
    {
     "data": {
      "image/png": "[encoded data removed]",
      "text/plain": [
       "<Figure size 432x288 with 1 Axes>"
      ]
     },
     "metadata": {},
     "output_type": "display_data"
    }
   ],
   "source": [
    "proc_au = proc.loc[ (proc['CountryName']==\"Australia\" )  ]\n",
    "sns.barplot(proc_au['Year'],proc_au['Value'])\n",
    "plt.title('Procedures to register property')\n",
    "plt.ylabel('# of Procedure')"
   ]
  },
  {
   "cell_type": "code",
   "execution_count": null,
   "metadata": {},
   "outputs": [],
   "source": []
  },
  {
   "cell_type": "code",
   "execution_count": null,
   "metadata": {},
   "outputs": [],
   "source": []
  }
 ],
 "metadata": {
  "kernelspec": {
   "display_name": "Python 3",
   "language": "python",
   "name": "python3"
  },
  "language_info": {
   "codemirror_mode": {
    "name": "ipython",
    "version": 3
   },
   "file_extension": ".py",
   "mimetype": "text/x-python",
   "name": "python",
   "nbconvert_exporter": "python",
   "pygments_lexer": "ipython3",
   "version": "3.7.6"
  }
 },
 "nbformat": 4,
 "nbformat_minor": 4
}
